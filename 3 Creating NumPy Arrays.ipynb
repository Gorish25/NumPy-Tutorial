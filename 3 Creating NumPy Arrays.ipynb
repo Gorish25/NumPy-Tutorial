{
 "cells": [
  {
   "cell_type": "code",
   "execution_count": 5,
   "id": "bc98ea23",
   "metadata": {},
   "outputs": [
    {
     "name": "stdout",
     "output_type": "stream",
     "text": [
      "[1 2 3 4 5]\n",
      "<class 'numpy.ndarray'>\n"
     ]
    },
    {
     "data": {
      "text/plain": [
       "array([1, 2, 3, 4, 5])"
      ]
     },
     "execution_count": 5,
     "metadata": {},
     "output_type": "execute_result"
    }
   ],
   "source": [
    "# To create a NumPy array, you can use the function np.array().\n",
    "import numpy as np\n",
    "a = np.array([1,2,3,4,5])\n",
    "print(a)\n",
    "print(type(a))\n",
    "a"
   ]
  },
  {
   "cell_type": "code",
   "execution_count": 2,
   "id": "ffaf9cea",
   "metadata": {},
   "outputs": [
    {
     "name": "stdout",
     "output_type": "stream",
     "text": [
      "Enter the size of array5\n",
      "Enter the element45\n",
      "Enter the element78\n",
      "Enter the element96\n",
      "Enter the element41\n",
      "Enter the element23\n",
      "[45 78 96 41 23]\n",
      "<class 'numpy.ndarray'>\n"
     ]
    }
   ],
   "source": [
    "# program to collecting numbers from user and converting them to an array\n",
    "size=int(input(\"Enter the size of array\"))\n",
    "l=[]\n",
    "for i in range(1,size+1):\n",
    "    element=int(input(\"Enter the element\"))\n",
    "    l.append(element)\n",
    "array=np.array(l)\n",
    "print(array)\n",
    "print(type(array))"
   ]
  },
  {
   "cell_type": "markdown",
   "id": "03cae039",
   "metadata": {},
   "source": [
    "- We can make 1D, 2D, 3D and multi Dimensional Arrays in NumPy Array"
   ]
  },
  {
   "cell_type": "code",
   "execution_count": 3,
   "id": "5ebf8d33",
   "metadata": {},
   "outputs": [
    {
     "name": "stdout",
     "output_type": "stream",
     "text": [
      "1\n"
     ]
    }
   ],
   "source": [
    "# checking dimensions of array\n",
    "print(array.ndim)"
   ]
  },
  {
   "cell_type": "code",
   "execution_count": 7,
   "id": "f80d62ef",
   "metadata": {},
   "outputs": [
    {
     "name": "stdout",
     "output_type": "stream",
     "text": [
      "[[ 1  2  3  4]\n",
      " [ 7  8  9 10]]\n",
      "The number of dimension of array is 2\n"
     ]
    }
   ],
   "source": [
    "arr2 = np.array([[1,2,3,4],[7,8,9,10]])\n",
    "# here number of data should be same in both the arrays\n",
    "print(arr2)\n",
    "print(f'The number of dimension of array is {arr2.ndim}')"
   ]
  },
  {
   "cell_type": "code",
   "execution_count": 8,
   "id": "97aa161a",
   "metadata": {},
   "outputs": [
    {
     "name": "stdout",
     "output_type": "stream",
     "text": [
      "[[[1 2 3 4]\n",
      "  [5 6 7 8]]]\n",
      "The number of dimension of array is 3\n"
     ]
    }
   ],
   "source": [
    "arr3 = np.array([[[1,2,3,4],[5,6,7,8]]])\n",
    "print(arr3)\n",
    "print(f'The number of dimension of array is {arr3.ndim}')"
   ]
  },
  {
   "cell_type": "code",
   "execution_count": 10,
   "id": "a80fd93c",
   "metadata": {},
   "outputs": [
    {
     "name": "stdout",
     "output_type": "stream",
     "text": [
      "[[[[[ 1  2  3  4]\n",
      "    [ 5  6  7  8]\n",
      "    [ 9 10 11 12]]]]]\n",
      "The number of dimension of array is 5\n"
     ]
    }
   ],
   "source": [
    "# multidimensional array\n",
    "arr4 = np.array([[[[[1,2,3,4],[5,6,7,8],[9,10,11,12]]]]])\n",
    "print(arr4)\n",
    "print(f'The number of dimension of array is {arr4.ndim}')"
   ]
  },
  {
   "cell_type": "code",
   "execution_count": 13,
   "id": "3c9978f4",
   "metadata": {},
   "outputs": [
    {
     "name": "stdout",
     "output_type": "stream",
     "text": [
      "[[[[[[[[[[1 2 3 4]]]]]]]]]]\n",
      "The number of dimension of array is 10\n"
     ]
    }
   ],
   "source": [
    "# specigying dimensions of array\n",
    "arr10 = np.array([1,2,3,4],ndmin=10)\n",
    "print(arr10)\n",
    "print(f'The number of dimension of array is {arr10.ndim}')"
   ]
  },
  {
   "cell_type": "code",
   "execution_count": null,
   "id": "768dce46",
   "metadata": {},
   "outputs": [],
   "source": []
  }
 ],
 "metadata": {
  "kernelspec": {
   "display_name": "Python 3 (ipykernel)",
   "language": "python",
   "name": "python3"
  },
  "language_info": {
   "codemirror_mode": {
    "name": "ipython",
    "version": 3
   },
   "file_extension": ".py",
   "mimetype": "text/x-python",
   "name": "python",
   "nbconvert_exporter": "python",
   "pygments_lexer": "ipython3",
   "version": "3.9.7"
  }
 },
 "nbformat": 4,
 "nbformat_minor": 5
}
