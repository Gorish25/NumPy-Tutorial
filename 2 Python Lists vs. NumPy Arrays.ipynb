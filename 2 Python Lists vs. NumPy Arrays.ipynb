{
 "cells": [
  {
   "cell_type": "markdown",
   "id": "2dd1b9ae",
   "metadata": {},
   "source": [
    "### Difference Between NumPy Array and List in Python\n",
    "- Data types storage (Python list can support multiple data types at a time But in NumPy Arrays it is necessary to use either strings or numbers at a specific time (we can merge them also))\n",
    "- Importing module (Python list can be used directly but for NumPy array we need to import NumPy module)\n",
    "- Numerical operation (Python list are capable for numerical operations but they are slow and they are not capable for creating matrix becasue it 1Dimensional nature But NumPy Array are very fast for numerical operations and also they can be used to create matrix because NumPy Arrays are Multidimensional)\n",
    "- Modification capabilities (Python Lists have a lot of functions for modifications but in NumPy Array there are very sort functions for modifications)\n",
    "- Consumptions of memory (NumPy Arrays uses very less memory and Python Lists need very large Memory for storage)\n",
    "- Fast as compared to the Python list\n",
    "- Convenient to use\n"
   ]
  },
  {
   "cell_type": "code",
   "execution_count": 1,
   "id": "85a764e6",
   "metadata": {},
   "outputs": [
    {
     "name": "stdout",
     "output_type": "stream",
     "text": [
      "3.22 µs ± 19 ns per loop (mean ± std. dev. of 7 runs, 100000 loops each)\n"
     ]
    }
   ],
   "source": [
    "# for finding how much time a single line of code take in executions\n",
    "# for this we use %timeit\n",
    "%timeit [j**4 for j in range(1,16)]"
   ]
  },
  {
   "cell_type": "code",
   "execution_count": 2,
   "id": "161846ab",
   "metadata": {},
   "outputs": [
    {
     "name": "stdout",
     "output_type": "stream",
     "text": [
      "1.25 µs ± 5.12 ns per loop (mean ± std. dev. of 7 runs, 1000000 loops each)\n"
     ]
    }
   ],
   "source": [
    "# same operations for NumPy Array\n",
    "import numpy as np\n",
    "%timeit np.arange(1,16)**4"
   ]
  },
  {
   "cell_type": "code",
   "execution_count": null,
   "id": "69aaf77d",
   "metadata": {},
   "outputs": [],
   "source": []
  }
 ],
 "metadata": {
  "kernelspec": {
   "display_name": "Python 3 (ipykernel)",
   "language": "python",
   "name": "python3"
  },
  "language_info": {
   "codemirror_mode": {
    "name": "ipython",
    "version": 3
   },
   "file_extension": ".py",
   "mimetype": "text/x-python",
   "name": "python",
   "nbconvert_exporter": "python",
   "pygments_lexer": "ipython3",
   "version": "3.9.7"
  }
 },
 "nbformat": 4,
 "nbformat_minor": 5
}
