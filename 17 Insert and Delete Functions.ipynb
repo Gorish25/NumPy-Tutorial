{
 "cells": [
  {
   "cell_type": "markdown",
   "id": "b5e28113",
   "metadata": {},
   "source": [
    "## Insert"
   ]
  },
  {
   "cell_type": "code",
   "execution_count": 1,
   "id": "c7211785",
   "metadata": {},
   "outputs": [],
   "source": [
    "import numpy as np"
   ]
  },
  {
   "cell_type": "code",
   "execution_count": 2,
   "id": "3da73f33",
   "metadata": {},
   "outputs": [
    {
     "name": "stdout",
     "output_type": "stream",
     "text": [
      "[1 2 3 4]\n"
     ]
    }
   ],
   "source": [
    "var1 = np.array([1,2,3,4])\n",
    "print(var1)"
   ]
  },
  {
   "cell_type": "code",
   "execution_count": 4,
   "id": "7a794e71",
   "metadata": {},
   "outputs": [
    {
     "name": "stdout",
     "output_type": "stream",
     "text": [
      "<class 'numpy.ndarray'>\n",
      "int32\n"
     ]
    }
   ],
   "source": [
    "print(type(var1))\n",
    "print(var1.dtype)"
   ]
  },
  {
   "cell_type": "code",
   "execution_count": 6,
   "id": "01b97e11",
   "metadata": {},
   "outputs": [
    {
     "name": "stdout",
     "output_type": "stream",
     "text": [
      "[ 1  2 40  3  4]\n"
     ]
    }
   ],
   "source": [
    "# insert\n",
    "# 3 parameters = array_name,position,value\n",
    "var2 = np.insert(var1,2,40)\n",
    "print(var2)"
   ]
  },
  {
   "cell_type": "code",
   "execution_count": 7,
   "id": "aa5899ab",
   "metadata": {},
   "outputs": [
    {
     "name": "stdout",
     "output_type": "stream",
     "text": [
      "[ 1  2  3 45  4 45]\n"
     ]
    }
   ],
   "source": [
    "# another example\n",
    "var3 = np.insert(var1, (3,4),45)\n",
    "print(var3)"
   ]
  },
  {
   "cell_type": "code",
   "execution_count": 9,
   "id": "0edd56dc",
   "metadata": {},
   "outputs": [
    {
     "name": "stdout",
     "output_type": "stream",
     "text": [
      "[ 1  2  3  4 41]\n"
     ]
    }
   ],
   "source": [
    "# it do not assign float value (skips the float part of value)\n",
    "var4 = np.insert(var1,4,41.23)\n",
    "print(var4)"
   ]
  },
  {
   "cell_type": "code",
   "execution_count": 11,
   "id": "f6ee37eb",
   "metadata": {},
   "outputs": [
    {
     "name": "stdout",
     "output_type": "stream",
     "text": [
      "[[1 2 3]\n",
      " [4 5 6]\n",
      " [9 9 9]]\n"
     ]
    }
   ],
   "source": [
    "# inserting in 2D array\n",
    "var5 = np.array([[1,2,3],[4,5,6]])\n",
    "var6 = np.insert(var5,2,9,axis=0)\n",
    "print(var6)"
   ]
  },
  {
   "cell_type": "code",
   "execution_count": 12,
   "id": "9161f319",
   "metadata": {},
   "outputs": [
    {
     "name": "stdout",
     "output_type": "stream",
     "text": [
      "[[1 2 9 3]\n",
      " [4 5 9 6]]\n"
     ]
    }
   ],
   "source": [
    "var7 = np.insert(var5,2,9,axis=1)\n",
    "print(var7)"
   ]
  },
  {
   "cell_type": "code",
   "execution_count": 13,
   "id": "1f519348",
   "metadata": {},
   "outputs": [
    {
     "name": "stdout",
     "output_type": "stream",
     "text": [
      "[[ 1  2 22  3]\n",
      " [ 4  5 23  6]]\n"
     ]
    }
   ],
   "source": [
    "# another example\n",
    "var8 = np.insert(var5,2,[22,23],axis=1)\n",
    "print(var8)"
   ]
  },
  {
   "cell_type": "code",
   "execution_count": 14,
   "id": "371b964e",
   "metadata": {},
   "outputs": [
    {
     "name": "stdout",
     "output_type": "stream",
     "text": [
      "[1.  2.  3.  4.  7.2]\n"
     ]
    }
   ],
   "source": [
    "# append is also used to insert data \n",
    "# it appends the value at last\n",
    "var9 = np.array([1,2,3,4])\n",
    "var10 = np.append(var9, 7.2)\n",
    "print(var10)"
   ]
  },
  {
   "cell_type": "code",
   "execution_count": 16,
   "id": "cd1541b0",
   "metadata": {},
   "outputs": [
    {
     "name": "stdout",
     "output_type": "stream",
     "text": [
      "[[1 2 3]\n",
      " [4 5 6]\n",
      " [7 8 9]]\n"
     ]
    }
   ],
   "source": [
    "# using append in 2D array\n",
    "var11 = np.array([[1,2,3],[4,5,6]])\n",
    "var12 = np.append(var11,[[7,8,9]],axis=0)\n",
    "print(var12)"
   ]
  },
  {
   "cell_type": "markdown",
   "id": "ab755082",
   "metadata": {},
   "source": [
    "## Delete"
   ]
  },
  {
   "cell_type": "code",
   "execution_count": 17,
   "id": "66fd841c",
   "metadata": {},
   "outputs": [
    {
     "name": "stdout",
     "output_type": "stream",
     "text": [
      "[ 1  2  3  4  5  6  8  9 10]\n"
     ]
    }
   ],
   "source": [
    "# 2 args = variable_name, index_position\n",
    "var13 = np.array([1,2,3,4,5,6,7,8,9,10])\n",
    "var14 = np.delete(var13,6)\n",
    "print(var14)"
   ]
  },
  {
   "cell_type": "code",
   "execution_count": 19,
   "id": "0b6deae9",
   "metadata": {},
   "outputs": [
    {
     "name": "stdout",
     "output_type": "stream",
     "text": [
      "[ 1  3  5  6  7  8  9 10]\n"
     ]
    }
   ],
   "source": [
    "# deleting in 2D array\n",
    "var15 = np.array([[1,2,3,4,5],[6,7,8,9,10]])\n",
    "var16 = np.delete(var15,(1,3))\n",
    "print(var16)"
   ]
  },
  {
   "cell_type": "code",
   "execution_count": null,
   "id": "76715054",
   "metadata": {},
   "outputs": [],
   "source": []
  }
 ],
 "metadata": {
  "kernelspec": {
   "display_name": "Python 3 (ipykernel)",
   "language": "python",
   "name": "python3"
  },
  "language_info": {
   "codemirror_mode": {
    "name": "ipython",
    "version": 3
   },
   "file_extension": ".py",
   "mimetype": "text/x-python",
   "name": "python",
   "nbconvert_exporter": "python",
   "pygments_lexer": "ipython3",
   "version": "3.9.7"
  }
 },
 "nbformat": 4,
 "nbformat_minor": 5
}
