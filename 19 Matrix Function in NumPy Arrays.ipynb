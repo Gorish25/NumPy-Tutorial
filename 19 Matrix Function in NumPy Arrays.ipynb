{
 "cells": [
  {
   "cell_type": "markdown",
   "id": "cc12d9cd",
   "metadata": {},
   "source": [
    "## Matrix Functions\n",
    "- Transpose, Swapaxes, inverse, power, determinate"
   ]
  },
  {
   "cell_type": "code",
   "execution_count": 12,
   "id": "e657295d",
   "metadata": {},
   "outputs": [],
   "source": [
    "import numpy as np"
   ]
  },
  {
   "cell_type": "code",
   "execution_count": 13,
   "id": "787c2dc0",
   "metadata": {},
   "outputs": [
    {
     "name": "stdout",
     "output_type": "stream",
     "text": [
      "[[1 2 3]\n",
      " [4 5 6]]\n"
     ]
    }
   ],
   "source": [
    "var1 = np.matrix([[1,2,3],[4,5,6]])\n",
    "print(var1)"
   ]
  },
  {
   "cell_type": "markdown",
   "id": "2b4c1802",
   "metadata": {},
   "source": [
    "- transpose"
   ]
  },
  {
   "cell_type": "code",
   "execution_count": 14,
   "id": "3d6a0160",
   "metadata": {},
   "outputs": [
    {
     "name": "stdout",
     "output_type": "stream",
     "text": [
      "[[1 4]\n",
      " [2 5]\n",
      " [3 6]]\n"
     ]
    }
   ],
   "source": [
    "print(np.transpose(var1))"
   ]
  },
  {
   "cell_type": "code",
   "execution_count": 15,
   "id": "ad3aaab6",
   "metadata": {},
   "outputs": [
    {
     "name": "stdout",
     "output_type": "stream",
     "text": [
      "[[1 4]\n",
      " [2 5]\n",
      " [3 6]]\n"
     ]
    }
   ],
   "source": [
    "# shortcut for transpose\n",
    "print(var1.T)"
   ]
  },
  {
   "cell_type": "markdown",
   "id": "be656193",
   "metadata": {},
   "source": [
    "- swapaxes"
   ]
  },
  {
   "cell_type": "code",
   "execution_count": 16,
   "id": "2c30ec94",
   "metadata": {},
   "outputs": [
    {
     "name": "stdout",
     "output_type": "stream",
     "text": [
      "[[1 4]\n",
      " [2 5]\n",
      " [3 6]]\n"
     ]
    }
   ],
   "source": [
    "# 1st arg variable, 2nd arg axis to change, 3rd arg to changement\n",
    "print(np.swapaxes(var1,0,1))"
   ]
  },
  {
   "cell_type": "code",
   "execution_count": 17,
   "id": "4552f677",
   "metadata": {},
   "outputs": [
    {
     "name": "stdout",
     "output_type": "stream",
     "text": [
      "[[1 2]\n",
      " [3 4]]\n",
      "\n",
      "[[1 3]\n",
      " [2 4]]\n"
     ]
    }
   ],
   "source": [
    "var2 = np.matrix([[1,2],[3,4]])\n",
    "print(var2)\n",
    "print()\n",
    "print(var2.swapaxes(0,1))"
   ]
  },
  {
   "cell_type": "markdown",
   "id": "9fc9e432",
   "metadata": {},
   "source": [
    "- inverse"
   ]
  },
  {
   "cell_type": "code",
   "execution_count": 18,
   "id": "8131c375",
   "metadata": {},
   "outputs": [
    {
     "name": "stdout",
     "output_type": "stream",
     "text": [
      "[[1 2]\n",
      " [3 4]]\n",
      "\n",
      "[[-2.   1. ]\n",
      " [ 1.5 -0.5]]\n"
     ]
    }
   ],
   "source": [
    "# inverse matrix\n",
    "print(var2)\n",
    "print()\n",
    "print(np.linalg.inv(var2))"
   ]
  },
  {
   "cell_type": "markdown",
   "id": "9e9b320a",
   "metadata": {},
   "source": [
    "- power\n",
    "- it takes 2 args, 1st is array, 2nd is the power(n)\n",
    "- power have 3 conditions(n<0, n=0, n>0)"
   ]
  },
  {
   "cell_type": "code",
   "execution_count": 22,
   "id": "1e28d449",
   "metadata": {},
   "outputs": [
    {
     "name": "stdout",
     "output_type": "stream",
     "text": [
      "[[1 2]\n",
      " [3 4]]\n",
      "\n",
      "power 2 matrix:\n",
      "[[ 7 10]\n",
      " [15 22]]\n"
     ]
    }
   ],
   "source": [
    "# power n>0\n",
    "print(var2)\n",
    "print()\n",
    "print('power 2 matrix:')\n",
    "print(np.linalg.matrix_power(var2,2))"
   ]
  },
  {
   "cell_type": "code",
   "execution_count": 23,
   "id": "0b0ee543",
   "metadata": {},
   "outputs": [
    {
     "name": "stdout",
     "output_type": "stream",
     "text": [
      "Power 0 matrix\n",
      "[[1 0]\n",
      " [0 1]]\n"
     ]
    }
   ],
   "source": [
    "# power 0 matrix\n",
    "print('Power 0 matrix')\n",
    "print(np.linalg.matrix_power(var2,0))"
   ]
  },
  {
   "cell_type": "code",
   "execution_count": 24,
   "id": "d48fced6",
   "metadata": {},
   "outputs": [
    {
     "name": "stdout",
     "output_type": "stream",
     "text": [
      "Power -3 matrix\n",
      "[[-14.75    6.75 ]\n",
      " [ 10.125  -4.625]]\n"
     ]
    }
   ],
   "source": [
    "# power n<0\n",
    "print('Power -3 matrix')\n",
    "print(np.linalg.matrix_power(var2,-3))"
   ]
  },
  {
   "cell_type": "markdown",
   "id": "58cb5791",
   "metadata": {},
   "source": [
    "- Determinate\n",
    "- |matrix|"
   ]
  },
  {
   "cell_type": "code",
   "execution_count": 25,
   "id": "c1fc67f5",
   "metadata": {},
   "outputs": [
    {
     "name": "stdout",
     "output_type": "stream",
     "text": [
      "matrix\n",
      "[[1 2 3]\n",
      " [4 5 6]\n",
      " [7 8 9]]\n",
      "\n",
      "Determinate of matrix\n",
      "-9.51619735392994e-16\n"
     ]
    }
   ],
   "source": [
    "# determinate matrix\n",
    "var4 = np.matrix([[1,2,3],[4,5,6],[7,8,9]])\n",
    "print('matrix')\n",
    "print(var4)\n",
    "print()\n",
    "print(\"Determinate of matrix\")\n",
    "print(np.linalg.det(var4))"
   ]
  },
  {
   "cell_type": "code",
   "execution_count": null,
   "id": "7da9a642",
   "metadata": {},
   "outputs": [],
   "source": []
  }
 ],
 "metadata": {
  "kernelspec": {
   "display_name": "Python 3 (ipykernel)",
   "language": "python",
   "name": "python3"
  },
  "language_info": {
   "codemirror_mode": {
    "name": "ipython",
    "version": 3
   },
   "file_extension": ".py",
   "mimetype": "text/x-python",
   "name": "python",
   "nbconvert_exporter": "python",
   "pygments_lexer": "ipython3",
   "version": "3.9.7"
  }
 },
 "nbformat": 4,
 "nbformat_minor": 5
}
