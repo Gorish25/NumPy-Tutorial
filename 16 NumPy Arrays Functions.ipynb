{
 "cells": [
  {
   "cell_type": "markdown",
   "id": "dbc2fb4b",
   "metadata": {},
   "source": [
    "# Arithmetic Functions\n",
    "- Shuffle, Unique, Resize, Flatten, Ravel"
   ]
  },
  {
   "cell_type": "code",
   "execution_count": 1,
   "id": "b5104788",
   "metadata": {},
   "outputs": [],
   "source": [
    "import numpy as np"
   ]
  },
  {
   "cell_type": "markdown",
   "id": "7ee4e4d2",
   "metadata": {},
   "source": [
    "- shuffle"
   ]
  },
  {
   "cell_type": "code",
   "execution_count": 2,
   "id": "af1acee4",
   "metadata": {},
   "outputs": [
    {
     "name": "stdout",
     "output_type": "stream",
     "text": [
      "[5 1 4 3 2]\n"
     ]
    }
   ],
   "source": [
    "var1 = np.array([1,2,3,4,5])\n",
    "np.random.shuffle(var1)\n",
    "print(var1)"
   ]
  },
  {
   "cell_type": "markdown",
   "id": "a7eba68a",
   "metadata": {},
   "source": [
    "- unique"
   ]
  },
  {
   "cell_type": "code",
   "execution_count": 3,
   "id": "3f98bd1a",
   "metadata": {},
   "outputs": [
    {
     "name": "stdout",
     "output_type": "stream",
     "text": [
      "[ 3  2  3  5  7  8  9  1  2 47  5  6  2 21  4]\n"
     ]
    }
   ],
   "source": [
    "var2 = np.array([3,2,3,5,7,8,9,1,2,47,5,6,2,21,4])\n",
    "x=np.unique(var2)\n",
    "print(var2)"
   ]
  },
  {
   "cell_type": "code",
   "execution_count": 5,
   "id": "c7e212bc",
   "metadata": {},
   "outputs": [
    {
     "name": "stdout",
     "output_type": "stream",
     "text": [
      "(array([ 1,  2,  3,  4,  5,  6,  7,  8,  9, 21, 47]), array([ 7,  1,  0, 14,  3, 11,  4,  5,  6, 13,  9], dtype=int64))\n"
     ]
    }
   ],
   "source": [
    "# returning index of unique elements \n",
    "y=np.unique(var2, return_index=True)\n",
    "print(y)"
   ]
  },
  {
   "cell_type": "code",
   "execution_count": 6,
   "id": "42d9984b",
   "metadata": {},
   "outputs": [
    {
     "name": "stdout",
     "output_type": "stream",
     "text": [
      "(array([ 1,  2,  3,  4,  5,  6,  7,  8,  9, 21, 47]), array([1, 3, 2, 1, 2, 1, 1, 1, 1, 1, 1], dtype=int64))\n"
     ]
    }
   ],
   "source": [
    "# returning count of elements\n",
    "z = np.unique(var2, return_counts=True)\n",
    "print(z)"
   ]
  },
  {
   "cell_type": "markdown",
   "id": "0ded6317",
   "metadata": {},
   "source": [
    "- Resize"
   ]
  },
  {
   "cell_type": "code",
   "execution_count": 7,
   "id": "58bea80e",
   "metadata": {},
   "outputs": [
    {
     "name": "stdout",
     "output_type": "stream",
     "text": [
      "[[1 2 3]\n",
      " [4 5 6]]\n"
     ]
    }
   ],
   "source": [
    "var3 = np.array([1,2,3,4,5,6])\n",
    "var4 = np.resize(var3,(2,3))\n",
    "print(var4)"
   ]
  },
  {
   "cell_type": "markdown",
   "id": "f9dbbe01",
   "metadata": {},
   "source": [
    "- Flatten (it converts 2D array to 1D array)\n",
    "- Some points to remember\n",
    "- Order: {'C','F','A','K'}, optional\n",
    "- 'C' means to flatten in row-major (C-style) order.\n",
    "- 'F' means to flatten in column-major (Fortran-style) order.\n",
    "- 'A' means to flatten in column-major order if `a` is Fortran *contiguous* in memory, row-major order otherwise.\n",
    "- 'K' means to flatten `a` in the order the elements occur in memory.\n",
    "- The default is 'C'."
   ]
  },
  {
   "cell_type": "code",
   "execution_count": 9,
   "id": "fc94996a",
   "metadata": {},
   "outputs": [
    {
     "name": "stdout",
     "output_type": "stream",
     "text": [
      "[[1 2 3]\n",
      " [4 5 6]]\n",
      "\n",
      "[1 2 3 4 5 6]\n"
     ]
    }
   ],
   "source": [
    "# converting 2D array to 1D array\n",
    "print(var4)\n",
    "print()\n",
    "print(var4.flatten())"
   ]
  },
  {
   "cell_type": "code",
   "execution_count": 10,
   "id": "4d51dc9f",
   "metadata": {},
   "outputs": [
    {
     "name": "stdout",
     "output_type": "stream",
     "text": [
      "[1 4 2 5 3 6]\n"
     ]
    }
   ],
   "source": [
    "print(var4.flatten(order=\"F\"))"
   ]
  },
  {
   "cell_type": "code",
   "execution_count": 11,
   "id": "80dd25ee",
   "metadata": {},
   "outputs": [
    {
     "name": "stdout",
     "output_type": "stream",
     "text": [
      "[1 2 3 4 5 6]\n"
     ]
    }
   ],
   "source": [
    "print(var4.flatten(order='A'))"
   ]
  },
  {
   "cell_type": "code",
   "execution_count": 12,
   "id": "c8522d39",
   "metadata": {},
   "outputs": [
    {
     "name": "stdout",
     "output_type": "stream",
     "text": [
      "[1 2 3 4 5 6]\n"
     ]
    }
   ],
   "source": [
    "print(var4.flatten(order='K'))"
   ]
  },
  {
   "cell_type": "markdown",
   "id": "e41765a0",
   "metadata": {},
   "source": [
    "- Ravel\n",
    "-  ravel() functions returns contiguous flattened array(1D array with all the input-array elements and with the same type as it). A copy is made only if needed"
   ]
  },
  {
   "cell_type": "code",
   "execution_count": 14,
   "id": "7b64ed5b",
   "metadata": {},
   "outputs": [
    {
     "name": "stdout",
     "output_type": "stream",
     "text": [
      "[1 3 5 2 4 6]\n"
     ]
    }
   ],
   "source": [
    "var5 = np.array([[1,2],[3,4],[5,6]])\n",
    "print(np.ravel(var5, order='F'))"
   ]
  },
  {
   "cell_type": "code",
   "execution_count": null,
   "id": "11138e44",
   "metadata": {},
   "outputs": [],
   "source": []
  }
 ],
 "metadata": {
  "kernelspec": {
   "display_name": "Python 3 (ipykernel)",
   "language": "python",
   "name": "python3"
  },
  "language_info": {
   "codemirror_mode": {
    "name": "ipython",
    "version": 3
   },
   "file_extension": ".py",
   "mimetype": "text/x-python",
   "name": "python",
   "nbconvert_exporter": "python",
   "pygments_lexer": "ipython3",
   "version": "3.9.7"
  }
 },
 "nbformat": 4,
 "nbformat_minor": 5
}
