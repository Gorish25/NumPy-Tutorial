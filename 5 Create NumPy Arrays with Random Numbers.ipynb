{
 "cells": [
  {
   "cell_type": "markdown",
   "id": "ed95aef4",
   "metadata": {},
   "source": [
    "# Random"
   ]
  },
  {
   "cell_type": "markdown",
   "id": "6c38b33e",
   "metadata": {},
   "source": [
    "### rand() : \n",
    "- the function is used to generate a random value between 0 to 1."
   ]
  },
  {
   "cell_type": "code",
   "execution_count": 1,
   "id": "a47ca738",
   "metadata": {},
   "outputs": [],
   "source": [
    "import numpy as np"
   ]
  },
  {
   "cell_type": "code",
   "execution_count": 3,
   "id": "9f4e5e22",
   "metadata": {},
   "outputs": [
    {
     "name": "stdout",
     "output_type": "stream",
     "text": [
      "[0.31169714 0.73542878 0.52761421 0.32532665 0.47059209]\n"
     ]
    }
   ],
   "source": [
    "# in rand we give the number of value we want\n",
    "var = np.random.rand(5)\n",
    "print(var)"
   ]
  },
  {
   "cell_type": "code",
   "execution_count": 4,
   "id": "6cf06a9d",
   "metadata": {},
   "outputs": [
    {
     "name": "stdout",
     "output_type": "stream",
     "text": [
      "[[0.28647316 0.22615185 0.84689905 0.1999946  0.18678202]\n",
      " [0.28349803 0.22683814 0.81224368 0.68417817 0.18549152]]\n"
     ]
    }
   ],
   "source": [
    "# row and columns wise value (2d or multi dimensional)\n",
    "var2 = np.random.rand(2,5)\n",
    "print(var2)"
   ]
  },
  {
   "cell_type": "markdown",
   "id": "abe0b74d",
   "metadata": {},
   "source": [
    "### randn():\n",
    "- the function is used to generate a random value close to zero.\n",
    "- This may return positive or negative numbers as well."
   ]
  },
  {
   "cell_type": "code",
   "execution_count": 5,
   "id": "6f9ff23b",
   "metadata": {},
   "outputs": [
    {
     "name": "stdout",
     "output_type": "stream",
     "text": [
      "[ 0.384258    0.22126771 -1.53946098 -2.43993994 -1.17068224]\n"
     ]
    }
   ],
   "source": [
    "var3 = np.random.randn(5)\n",
    "print(var3)"
   ]
  },
  {
   "cell_type": "code",
   "execution_count": 6,
   "id": "4d68535a",
   "metadata": {},
   "outputs": [
    {
     "name": "stdout",
     "output_type": "stream",
     "text": [
      "[[-0.12552908 -0.15042364  0.52441944  2.58236636  0.25755805]\n",
      " [-0.51404218  0.40785265  1.53335882 -0.56817486  0.33887975]\n",
      " [-0.39871044 -0.18634829  0.02288072  0.97923896 -0.03970461]]\n"
     ]
    }
   ],
   "source": [
    "var4 = np.random.randn(3,5)\n",
    "print(var4)"
   ]
  },
  {
   "cell_type": "markdown",
   "id": "65672cfa",
   "metadata": {},
   "source": [
    "### ranf():\n",
    "- The function for doing random sampling in numpy. It returns an array of specified shape and fills it with random floats in the half-open interval[0.0,1.0)."
   ]
  },
  {
   "cell_type": "code",
   "execution_count": 7,
   "id": "8401b96f",
   "metadata": {},
   "outputs": [
    {
     "name": "stdout",
     "output_type": "stream",
     "text": [
      "[0.29338382 0.89698567 0.37643019 0.0810485  0.35762496]\n"
     ]
    }
   ],
   "source": [
    "var5 = np.random.ranf(5)\n",
    "print(var5)"
   ]
  },
  {
   "cell_type": "code",
   "execution_count": 10,
   "id": "1f1098eb",
   "metadata": {},
   "outputs": [
    {
     "name": "stdout",
     "output_type": "stream",
     "text": [
      "[[0.5208932  0.74229478 0.39708867 0.01233483 0.91454617]\n",
      " [0.30299218 0.25879922 0.98263701 0.12117923 0.31250719]\n",
      " [0.39587572 0.2167912  0.96599625 0.60178073 0.692023  ]]\n"
     ]
    }
   ],
   "source": [
    "var6 = np.random.ranf((3,5))\n",
    "print(var6)"
   ]
  },
  {
   "cell_type": "markdown",
   "id": "17983cad",
   "metadata": {},
   "source": [
    "### randint():\n",
    "- The function is used to generate a random number between a given range."
   ]
  },
  {
   "cell_type": "code",
   "execution_count": 11,
   "id": "8cc63836",
   "metadata": {},
   "outputs": [
    {
     "name": "stdout",
     "output_type": "stream",
     "text": [
      "[11  6  6 14  5  5 17]\n"
     ]
    }
   ],
   "source": [
    "# var7 = np.random.randint(min,max,total_values)\n",
    "var7 = np.random.randint(5,20,7)\n",
    "print(var7)"
   ]
  },
  {
   "cell_type": "code",
   "execution_count": null,
   "id": "f4da2d9d",
   "metadata": {},
   "outputs": [],
   "source": []
  }
 ],
 "metadata": {
  "kernelspec": {
   "display_name": "Python 3 (ipykernel)",
   "language": "python",
   "name": "python3"
  },
  "language_info": {
   "codemirror_mode": {
    "name": "ipython",
    "version": 3
   },
   "file_extension": ".py",
   "mimetype": "text/x-python",
   "name": "python",
   "nbconvert_exporter": "python",
   "pygments_lexer": "ipython3",
   "version": "3.9.7"
  }
 },
 "nbformat": 4,
 "nbformat_minor": 5
}
