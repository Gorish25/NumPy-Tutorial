{
 "cells": [
  {
   "cell_type": "markdown",
   "id": "895731f0",
   "metadata": {},
   "source": [
    "## Special NumPy Array\n",
    "- Array filled with 0's\n",
    "- Array filled 1's\n",
    "- Create an empty array\n",
    "- An array with  a range of elements\n",
    "- Array diagonal element filled with 1's\n",
    "- Create an array with values that are spaced linearly in a specified interval"
   ]
  },
  {
   "cell_type": "markdown",
   "id": "ee4a9b8e",
   "metadata": {},
   "source": [
    "- Array filled with 0's"
   ]
  },
  {
   "cell_type": "code",
   "execution_count": 1,
   "id": "87972e87",
   "metadata": {},
   "outputs": [],
   "source": [
    "import numpy as np"
   ]
  },
  {
   "cell_type": "code",
   "execution_count": 2,
   "id": "9a1c3e83",
   "metadata": {},
   "outputs": [
    {
     "name": "stdout",
     "output_type": "stream",
     "text": [
      "[0. 0. 0. 0.]\n"
     ]
    }
   ],
   "source": [
    "ar_zero = np.zeros(4)\n",
    "print(ar_zero)"
   ]
  },
  {
   "cell_type": "code",
   "execution_count": 7,
   "id": "83360f3c",
   "metadata": {},
   "outputs": [
    {
     "name": "stdout",
     "output_type": "stream",
     "text": [
      "[[0. 0. 0. 0.]\n",
      " [0. 0. 0. 0.]\n",
      " [0. 0. 0. 0.]]\n"
     ]
    }
   ],
   "source": [
    "# array with dimension using row and columns\n",
    "ar_zero2 = np.zeros((3,4))\n",
    "print(ar_zero2)"
   ]
  },
  {
   "cell_type": "markdown",
   "id": "96994b4b",
   "metadata": {},
   "source": [
    "- Array filled with 1's"
   ]
  },
  {
   "cell_type": "code",
   "execution_count": 8,
   "id": "7ea26bc1",
   "metadata": {},
   "outputs": [
    {
     "name": "stdout",
     "output_type": "stream",
     "text": [
      "[1. 1. 1. 1.]\n"
     ]
    }
   ],
   "source": [
    "ar_one = np.ones(4)\n",
    "print(ar_one)"
   ]
  },
  {
   "cell_type": "markdown",
   "id": "1cf02925",
   "metadata": {},
   "source": [
    "- Create an Empty array"
   ]
  },
  {
   "cell_type": "code",
   "execution_count": 11,
   "id": "6f7a7679",
   "metadata": {},
   "outputs": [
    {
     "name": "stdout",
     "output_type": "stream",
     "text": [
      "[1.19095344e-311 1.60216183e-306 7.56602523e-307 1.11258446e-306\n",
      " 6.23059726e-307]\n"
     ]
    }
   ],
   "source": [
    "# creating an empty array\n",
    "# if memorty have previous data then that will be used\n",
    "# in empty array\n",
    "ar_em = np.empty(5)\n",
    "print(ar_em)"
   ]
  },
  {
   "cell_type": "markdown",
   "id": "187f43bf",
   "metadata": {},
   "source": [
    "- An array with a range of elements"
   ]
  },
  {
   "cell_type": "code",
   "execution_count": 12,
   "id": "859b9642",
   "metadata": {},
   "outputs": [
    {
     "name": "stdout",
     "output_type": "stream",
     "text": [
      "[0 1 2 3 4]\n"
     ]
    }
   ],
   "source": [
    "ar_rn = np.arange(5)\n",
    "print(ar_rn)"
   ]
  },
  {
   "cell_type": "markdown",
   "id": "6a3918b7",
   "metadata": {},
   "source": [
    "- Array diagonal element filled with 1's"
   ]
  },
  {
   "cell_type": "code",
   "execution_count": 15,
   "id": "bac88353",
   "metadata": {},
   "outputs": [
    {
     "name": "stdout",
     "output_type": "stream",
     "text": [
      "[[1. 0. 0. 0.]\n",
      " [0. 1. 0. 0.]\n",
      " [0. 0. 1. 0.]\n",
      " [0. 0. 0. 1.]]\n"
     ]
    }
   ],
   "source": [
    "ar_dia = np.eye(4)\n",
    "print(ar_dia)"
   ]
  },
  {
   "cell_type": "code",
   "execution_count": 16,
   "id": "3a6ef88d",
   "metadata": {},
   "outputs": [
    {
     "name": "stdout",
     "output_type": "stream",
     "text": [
      "[[1. 0. 0. 0. 0.]\n",
      " [0. 1. 0. 0. 0.]\n",
      " [0. 0. 1. 0. 0.]]\n"
     ]
    }
   ],
   "source": [
    "# specifying row and column\n",
    "ar_dia2 = np.eye(3,5)\n",
    "print(ar_dia2)"
   ]
  },
  {
   "cell_type": "markdown",
   "id": "c7371493",
   "metadata": {},
   "source": [
    "- Create an array with values that are spaced lineraly in a specified interval"
   ]
  },
  {
   "cell_type": "code",
   "execution_count": 19,
   "id": "27fb56a8",
   "metadata": {},
   "outputs": [
    {
     "name": "stdout",
     "output_type": "stream",
     "text": [
      "[ 0.  5. 10. 15. 20.]\n"
     ]
    }
   ],
   "source": [
    "# linspace\n",
    "ar_lin = np.linspace(0,20,num=5)\n",
    "print(ar_lin)"
   ]
  },
  {
   "cell_type": "code",
   "execution_count": null,
   "id": "a9e01c63",
   "metadata": {},
   "outputs": [],
   "source": []
  }
 ],
 "metadata": {
  "kernelspec": {
   "display_name": "Python 3 (ipykernel)",
   "language": "python",
   "name": "python3"
  },
  "language_info": {
   "codemirror_mode": {
    "name": "ipython",
    "version": 3
   },
   "file_extension": ".py",
   "mimetype": "text/x-python",
   "name": "python",
   "nbconvert_exporter": "python",
   "pygments_lexer": "ipython3",
   "version": "3.9.7"
  }
 },
 "nbformat": 4,
 "nbformat_minor": 5
}
