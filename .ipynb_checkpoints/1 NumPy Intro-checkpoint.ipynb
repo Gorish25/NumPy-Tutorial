{
 "cells": [
  {
   "cell_type": "markdown",
   "id": "c705ab0d",
   "metadata": {},
   "source": [
    "## What is NumPy?\n",
    "- Numpy is the fundamental package for scientific computing in Python.\n",
    "- Numpy is a Python library that provides a multidimensional array object, various derived objects\n"
   ]
  },
  {
   "cell_type": "markdown",
   "id": "dadcf201",
   "metadata": {},
   "source": [
    "## What is NumPy Array?\n",
    "- An array is a grid of values and it contains information about the raw data, how to locate an element, and how to interpret an element."
   ]
  },
  {
   "cell_type": "markdown",
   "id": "6063d1c0",
   "metadata": {},
   "source": [
    "### Advantages of using Numpy Arrays Over Python Lists:\n",
    "- Consumes less memory.\n",
    "- fast as compared to the python List.\n",
    "- convenient to use."
   ]
  },
  {
   "cell_type": "markdown",
   "id": "6157774e",
   "metadata": {},
   "source": [
    "#### NOTE: Lists are comma seperated and Arrays are not\n",
    "- Example\n",
    "- List: [1,2,3,4]\n",
    "- Array: [1 2 3 4]"
   ]
  },
  {
   "cell_type": "markdown",
   "id": "c4e723a9",
   "metadata": {},
   "source": [
    "### Importance of NumPy in Python \n",
    "- Wide variety of mathematical operations on arrays.\n",
    "- It supports an enormous library of high-level mathematical functions that operate on these arrays and matrices.\n",
    "- mathematical, logical, shape manipulation, sorting, seleting, I/O, discrete Fourier transforms, basic linear algebra, basic statistical operations, random simulation and much more."
   ]
  },
  {
   "cell_type": "code",
   "execution_count": 1,
   "id": "8bb8a46c",
   "metadata": {},
   "outputs": [],
   "source": [
    "import numpy as np"
   ]
  },
  {
   "cell_type": "code",
   "execution_count": 4,
   "id": "0cd7f40c",
   "metadata": {},
   "outputs": [
    {
     "name": "stdout",
     "output_type": "stream",
     "text": [
      "[1 2 3 4]\n",
      "<class 'numpy.ndarray'>\n"
     ]
    }
   ],
   "source": [
    "# creating a numpy array\n",
    "x = np.array([1,2,3,4])\n",
    "print(x)\n",
    "print(type(x))"
   ]
  },
  {
   "cell_type": "code",
   "execution_count": 5,
   "id": "02c4d9b0",
   "metadata": {},
   "outputs": [
    {
     "name": "stdout",
     "output_type": "stream",
     "text": [
      "[1, 2, 3, 4, 5]\n",
      "<class 'list'>\n"
     ]
    }
   ],
   "source": [
    "# List\n",
    "y = [1,2,3,4,5]\n",
    "print(y)\n",
    "print(type(y))"
   ]
  },
  {
   "cell_type": "code",
   "execution_count": null,
   "id": "9fc3f8fe",
   "metadata": {},
   "outputs": [],
   "source": []
  }
 ],
 "metadata": {
  "kernelspec": {
   "display_name": "Python 3 (ipykernel)",
   "language": "python",
   "name": "python3"
  },
  "language_info": {
   "codemirror_mode": {
    "name": "ipython",
    "version": 3
   },
   "file_extension": ".py",
   "mimetype": "text/x-python",
   "name": "python",
   "nbconvert_exporter": "python",
   "pygments_lexer": "ipython3",
   "version": "3.9.7"
  }
 },
 "nbformat": 4,
 "nbformat_minor": 5
}
