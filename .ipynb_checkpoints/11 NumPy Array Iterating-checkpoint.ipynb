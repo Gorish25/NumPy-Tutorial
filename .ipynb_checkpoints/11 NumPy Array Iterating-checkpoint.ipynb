{
 "cells": [
  {
   "cell_type": "markdown",
   "id": "6a241d29",
   "metadata": {},
   "source": [
    "### Iterating NumPy Arrays"
   ]
  },
  {
   "cell_type": "code",
   "execution_count": 1,
   "id": "18b190dd",
   "metadata": {},
   "outputs": [],
   "source": [
    "import numpy as np"
   ]
  },
  {
   "cell_type": "code",
   "execution_count": 3,
   "id": "b6ba0166",
   "metadata": {},
   "outputs": [
    {
     "name": "stdout",
     "output_type": "stream",
     "text": [
      "[ 1  2  3  4  5  6  7  8  9 10]\n",
      "\n",
      "1 2 3 4 5 6 7 8 9 10 "
     ]
    }
   ],
   "source": [
    "# 1D Array\n",
    "var1 = np.array([1,2,3,4,5,6,7,8,9,10])\n",
    "print(var1)\n",
    "print()\n",
    "for i in var1:\n",
    "    print(i,end=' ')"
   ]
  },
  {
   "cell_type": "code",
   "execution_count": 8,
   "id": "12b25abf",
   "metadata": {},
   "outputs": [
    {
     "name": "stdout",
     "output_type": "stream",
     "text": [
      "[[1 2 3 4]\n",
      " [5 6 7 8]]\n",
      "\n",
      "[1 2 3 4]\n",
      "[5 6 7 8]\n",
      "\n",
      "1 2 3 4 5 6 7 8 "
     ]
    }
   ],
   "source": [
    "var2 = np.array([[1,2,3,4],[5,6,7,8]])\n",
    "print(var2)\n",
    "\n",
    "print()\n",
    "\n",
    "for i in var2:\n",
    "    print(i)\n",
    "\n",
    "print()\n",
    "\n",
    "for i in var2:\n",
    "    for j in i:\n",
    "        print(j,end=' ')"
   ]
  },
  {
   "cell_type": "code",
   "execution_count": 15,
   "id": "a1ed0973",
   "metadata": {},
   "outputs": [
    {
     "name": "stdout",
     "output_type": "stream",
     "text": [
      "[[[ 1  2  3  4]\n",
      "  [ 5  6  7  8]]\n",
      "\n",
      " [[ 9 10 11 12]\n",
      "  [13 14 15 16]]]\n",
      "\n",
      "1 loop\n",
      "[[1 2 3 4]\n",
      " [5 6 7 8]]\n",
      "[[ 9 10 11 12]\n",
      " [13 14 15 16]]\n",
      "\n",
      "2 loop\n",
      "[1 2 3 4]\n",
      "[5 6 7 8]\n",
      "[ 9 10 11 12]\n",
      "[13 14 15 16]\n",
      "\n",
      "3 loop\n",
      "1 2 3 4 5 6 7 8 9 10 11 12 13 14 15 16 "
     ]
    }
   ],
   "source": [
    "# 3D Array\n",
    "var3 = np.array([[[1,2,3,4],[5,6,7,8]],[[9,10,11,12],[13,14,15,16]]])\n",
    "print(var3)\n",
    "\n",
    "print()\n",
    "print(\"1 loop\")\n",
    "\n",
    "for i in var3:\n",
    "    print(i)\n",
    "    \n",
    "print()\n",
    "print('2 loop')\n",
    "\n",
    "for i in var3:\n",
    "    for j in i:\n",
    "        print(j)\n",
    "        \n",
    "print()\n",
    "print('3 loop')\n",
    "for i in var3:\n",
    "    for j in i:\n",
    "        for k in j:\n",
    "            print(k,end=' ')"
   ]
  },
  {
   "cell_type": "code",
   "execution_count": 16,
   "id": "d0169b5d",
   "metadata": {},
   "outputs": [
    {
     "name": "stdout",
     "output_type": "stream",
     "text": [
      "1 2 3 4 5 6 7 8 9 10 11 12 13 14 15 16 "
     ]
    }
   ],
   "source": [
    "# skipping the 3 loop using (nditer)\n",
    "for i in np.nditer(var3):\n",
    "    print(i,end=' ')"
   ]
  },
  {
   "cell_type": "code",
   "execution_count": 17,
   "id": "1f5cb8af",
   "metadata": {},
   "outputs": [
    {
     "name": "stdout",
     "output_type": "stream",
     "text": [
      "b'1'\n",
      "b'2'\n",
      "b'3'\n",
      "b'4'\n",
      "b'5'\n",
      "b'6'\n",
      "b'7'\n",
      "b'8'\n",
      "b'9'\n",
      "b'10'\n",
      "b'11'\n",
      "b'12'\n",
      "b'13'\n",
      "b'14'\n",
      "b'15'\n",
      "b'16'\n"
     ]
    }
   ],
   "source": [
    "# changing values using some special attributes of nditer\n",
    "for i in np.nditer(var3,flags=['buffered'],op_dtypes=['S']):\n",
    "    print(i)"
   ]
  },
  {
   "cell_type": "code",
   "execution_count": 18,
   "id": "116cc028",
   "metadata": {},
   "outputs": [
    {
     "name": "stdout",
     "output_type": "stream",
     "text": [
      "At Index (0, 0, 0) Data is 1\n",
      "At Index (0, 0, 1) Data is 2\n",
      "At Index (0, 0, 2) Data is 3\n",
      "At Index (0, 0, 3) Data is 4\n",
      "At Index (0, 1, 0) Data is 5\n",
      "At Index (0, 1, 1) Data is 6\n",
      "At Index (0, 1, 2) Data is 7\n",
      "At Index (0, 1, 3) Data is 8\n",
      "At Index (1, 0, 0) Data is 9\n",
      "At Index (1, 0, 1) Data is 10\n",
      "At Index (1, 0, 2) Data is 11\n",
      "At Index (1, 0, 3) Data is 12\n",
      "At Index (1, 1, 0) Data is 13\n",
      "At Index (1, 1, 1) Data is 14\n",
      "At Index (1, 1, 2) Data is 15\n",
      "At Index (1, 1, 3) Data is 16\n"
     ]
    }
   ],
   "source": [
    "# Data with Index number\n",
    "for i,d in np.ndenumerate(var3):\n",
    "    print(f'At Index {i} Data is {d}')"
   ]
  },
  {
   "cell_type": "code",
   "execution_count": null,
   "id": "d7ddee67",
   "metadata": {},
   "outputs": [],
   "source": []
  }
 ],
 "metadata": {
  "kernelspec": {
   "display_name": "Python 3 (ipykernel)",
   "language": "python",
   "name": "python3"
  },
  "language_info": {
   "codemirror_mode": {
    "name": "ipython",
    "version": 3
   },
   "file_extension": ".py",
   "mimetype": "text/x-python",
   "name": "python",
   "nbconvert_exporter": "python",
   "pygments_lexer": "ipython3",
   "version": "3.9.7"
  }
 },
 "nbformat": 4,
 "nbformat_minor": 5
}
