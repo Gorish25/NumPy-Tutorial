{
 "cells": [
  {
   "cell_type": "markdown",
   "id": "f9559574",
   "metadata": {},
   "source": [
    "# Shape"
   ]
  },
  {
   "cell_type": "code",
   "execution_count": 1,
   "id": "39f14a34",
   "metadata": {},
   "outputs": [],
   "source": [
    "import numpy as np"
   ]
  },
  {
   "cell_type": "code",
   "execution_count": null,
   "id": "bfcd4785",
   "metadata": {},
   "outputs": [],
   "source": [
    "# var = np.array([[1,2,3],[4,7,8]])\n",
    "print(var)\n",
    "print()\n",
    "print(var.shape)"
   ]
  },
  {
   "cell_type": "code",
   "execution_count": 3,
   "id": "fdbfc649",
   "metadata": {},
   "outputs": [
    {
     "name": "stdout",
     "output_type": "stream",
     "text": [
      "[[[[1 2 3 4]]]]\n",
      "4\n",
      "\n",
      "(1, 1, 1, 4)\n"
     ]
    }
   ],
   "source": [
    "var2 = np.array([1,2,3,4],ndmin=4)\n",
    "print(var2)\n",
    "print(var2.ndim)\n",
    "print()\n",
    "print(var2.shape)"
   ]
  },
  {
   "cell_type": "markdown",
   "id": "dc1679f9",
   "metadata": {},
   "source": [
    "# Reshape"
   ]
  },
  {
   "cell_type": "code",
   "execution_count": 7,
   "id": "7dd950ae",
   "metadata": {},
   "outputs": [
    {
     "name": "stdout",
     "output_type": "stream",
     "text": [
      "No of Dimension: 1\n",
      "[1 2 3 4 5 6]\n",
      "\n",
      "No of Dimension: 2\n",
      "[[1 2]\n",
      " [3 4]\n",
      " [5 6]]\n"
     ]
    }
   ],
   "source": [
    "var3 = np.array([1,2,3,4,5,6])\n",
    "x = var3.reshape(3,2)\n",
    "print(f'No of Dimension: {var3.ndim}')\n",
    "print(var3)\n",
    "print()\n",
    "print(f'No of Dimension: {x.ndim}')\n",
    "print(x)"
   ]
  },
  {
   "cell_type": "code",
   "execution_count": 9,
   "id": "0e04d478",
   "metadata": {},
   "outputs": [
    {
     "name": "stdout",
     "output_type": "stream",
     "text": [
      "No of Dimension: 1\n",
      "[ 1  2  3  4  5  6  7  8  9 10 11 12]\n",
      "\n",
      "No of Dimension: 3\n",
      "[[[ 1  2]\n",
      "  [ 3  4]\n",
      "  [ 5  6]]\n",
      "\n",
      " [[ 7  8]\n",
      "  [ 9 10]\n",
      "  [11 12]]]\n"
     ]
    }
   ],
   "source": [
    "# converting to 3D array\n",
    "var4 = np.array([1,2,3,4,5,6,7,8,9,10,11,12])\n",
    "print(f'No of Dimension: {var4.ndim}')\n",
    "print(var4)\n",
    "\n",
    "print()\n",
    "\n",
    "var5 = var4.reshape(2,3,2)\n",
    "print(f'No of Dimension: {var5.ndim}')\n",
    "print(var5)"
   ]
  },
  {
   "cell_type": "code",
   "execution_count": 10,
   "id": "e8e14b71",
   "metadata": {},
   "outputs": [
    {
     "name": "stdout",
     "output_type": "stream",
     "text": [
      "No of Dimensions: 1\n",
      "[ 1  2  3  4  5  6  7  8  9 10 11 12]\n"
     ]
    }
   ],
   "source": [
    "# converting back to 1D array (we use -1 for that)\n",
    "var6 = var5.reshape(-1)\n",
    "print(f'No of Dimensions: {var6.ndim}')\n",
    "print(var6)"
   ]
  },
  {
   "cell_type": "code",
   "execution_count": null,
   "id": "1816dd96",
   "metadata": {},
   "outputs": [],
   "source": []
  }
 ],
 "metadata": {
  "kernelspec": {
   "display_name": "Python 3 (ipykernel)",
   "language": "python",
   "name": "python3"
  },
  "language_info": {
   "codemirror_mode": {
    "name": "ipython",
    "version": 3
   },
   "file_extension": ".py",
   "mimetype": "text/x-python",
   "name": "python",
   "nbconvert_exporter": "python",
   "pygments_lexer": "ipython3",
   "version": "3.9.7"
  }
 },
 "nbformat": 4,
 "nbformat_minor": 5
}
