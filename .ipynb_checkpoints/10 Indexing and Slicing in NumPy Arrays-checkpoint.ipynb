{
 "cells": [
  {
   "cell_type": "markdown",
   "id": "ed76977c",
   "metadata": {},
   "source": [
    "# Indexing"
   ]
  },
  {
   "cell_type": "code",
   "execution_count": 1,
   "id": "831ef0b7",
   "metadata": {},
   "outputs": [],
   "source": [
    "import numpy as np"
   ]
  },
  {
   "cell_type": "code",
   "execution_count": 4,
   "id": "8656b216",
   "metadata": {},
   "outputs": [
    {
     "name": "stdout",
     "output_type": "stream",
     "text": [
      "7\n",
      "8\n"
     ]
    }
   ],
   "source": [
    "# 1D Array\n",
    "var1 = np.array([9,8,7,6])\n",
    "# printing value via indexing\n",
    "print(var1[2])\n",
    "print(var1[-3])"
   ]
  },
  {
   "cell_type": "code",
   "execution_count": 12,
   "id": "594088d9",
   "metadata": {},
   "outputs": [
    {
     "name": "stdout",
     "output_type": "stream",
     "text": [
      "[[9 5 4 8]\n",
      " [4 1 6 3]]\n",
      "No of dimensions 2\n",
      "\n",
      "6\n"
     ]
    }
   ],
   "source": [
    "# 2D Array\n",
    "var2 = np.array([[9,5,4,8],[4,1,6,3]])\n",
    "print(var2)\n",
    "print(f'No of dimensions {var2.ndim}')\n",
    "print()\n",
    "\n",
    "# fetching 6\n",
    "print(var2[1,2])"
   ]
  },
  {
   "cell_type": "code",
   "execution_count": 13,
   "id": "6ce2e135",
   "metadata": {},
   "outputs": [
    {
     "name": "stdout",
     "output_type": "stream",
     "text": [
      "[[[1 2]\n",
      "  [3 4]]\n",
      "\n",
      " [[5 6]\n",
      "  [7 8]]]\n",
      "No of dimensions 3\n",
      "5\n",
      "4\n"
     ]
    }
   ],
   "source": [
    "# 3D Array\n",
    "var3 = np.array([[[1,2],[3,4]],[[5,6],[7,8]]])\n",
    "print(var3)\n",
    "print(f'No of dimensions {var3.ndim}')\n",
    "\n",
    "# fetching 5\n",
    "print(var3[1,0,0])\n",
    "\n",
    "# fetching 4\n",
    "print(var3[0,1,1])"
   ]
  },
  {
   "cell_type": "markdown",
   "id": "c55dfb2d",
   "metadata": {},
   "source": [
    "# Slicing"
   ]
  },
  {
   "cell_type": "code",
   "execution_count": 20,
   "id": "72b31390",
   "metadata": {},
   "outputs": [
    {
     "name": "stdout",
     "output_type": "stream",
     "text": [
      "[1 2 3 4 5 6 7]\n",
      "No of dimension 1\n",
      "\n",
      "2 to 5: [2 3 4 5]\n",
      "2 to end: [2 3 4 5 6 7]\n",
      "start to 4: [1 2 3 4]\n",
      "step of 2 from start to end: [1 3 5 7]\n",
      "step of 2 from 3 to Last: [3 5 7]\n"
     ]
    }
   ],
   "source": [
    "# 1D Array\n",
    "var4 = np.array([1,2,3,4,5,6,7])\n",
    "print(var4)\n",
    "print(f'No of dimension {var4.ndim}')\n",
    "print()\n",
    "\n",
    "# slicing \n",
    "# data from 2 to 5\n",
    "print(f'2 to 5: {var4[1:5]}')\n",
    "\n",
    "# data from 3 to end\n",
    "print(f'2 to end: {var4[1:]}')\n",
    "\n",
    "# data from start to 4\n",
    "print(f'start to 4: {var4[:4]}')\n",
    "\n",
    "# step of 2 from start to end\n",
    "print(f'step of 2 from start to end: {var4[::2]}')\n",
    "\n",
    "# step of 2 from 3 to last\n",
    "print(f'step of 2 from 3 to Last: {var4[2::2]}')"
   ]
  },
  {
   "cell_type": "code",
   "execution_count": 24,
   "id": "e5ed6841",
   "metadata": {},
   "outputs": [
    {
     "name": "stdout",
     "output_type": "stream",
     "text": [
      "[[ 9  8  7  6]\n",
      " [11 12 13 14]]\n",
      "No of dimensions 2\n",
      "\n",
      "Data from 12 to 14: [12 13 14]\n"
     ]
    }
   ],
   "source": [
    "# 2D Array\n",
    "var5 = np.array([[9,8,7,6],[11,12,13,14]])\n",
    "print(var5)\n",
    "print(f'No of dimensions {var5.ndim}')\n",
    "print()\n",
    "\n",
    "# fetching data\n",
    "# data from 12 to 14\n",
    "print(f'Data from 12 to 14: {var5[1,1:]}')"
   ]
  },
  {
   "cell_type": "code",
   "execution_count": 25,
   "id": "f45fcbc2",
   "metadata": {},
   "outputs": [
    {
     "name": "stdout",
     "output_type": "stream",
     "text": [
      "[[ 1  2  3  4  5]\n",
      " [ 9  8  7  6  5]\n",
      " [11 12 13 14 15]]\n",
      "\n",
      "Data from 8 to 5: [8 7 6 5]\n"
     ]
    }
   ],
   "source": [
    "var6 = np.array([[1,2,3,4,5],[9,8,7,6,5],[11,12,13,14,15]])\n",
    "print(var6)\n",
    "print()\n",
    "print(f'Data from 8 to 5: {var6[1,1:]}')"
   ]
  },
  {
   "cell_type": "code",
   "execution_count": null,
   "id": "2138fc76",
   "metadata": {},
   "outputs": [],
   "source": []
  }
 ],
 "metadata": {
  "kernelspec": {
   "display_name": "Python 3 (ipykernel)",
   "language": "python",
   "name": "python3"
  },
  "language_info": {
   "codemirror_mode": {
    "name": "ipython",
    "version": 3
   },
   "file_extension": ".py",
   "mimetype": "text/x-python",
   "name": "python",
   "nbconvert_exporter": "python",
   "pygments_lexer": "ipython3",
   "version": "3.9.7"
  }
 },
 "nbformat": 4,
 "nbformat_minor": 5
}
