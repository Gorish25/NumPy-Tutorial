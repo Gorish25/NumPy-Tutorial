{
 "cells": [
  {
   "cell_type": "markdown",
   "id": "394c9c05",
   "metadata": {},
   "source": [
    "### Arithmetic Operations\n",
    "- a+b  =>  np.add(a,b)\n",
    "- a-b  =>  np.subtract(a,b)\n",
    "- a*b  =>  np.multiply(a,b)\n",
    "- a/b  =>  np.divide(a,b)\n",
    "- a%b  =>  np.mod(a,b)\n",
    "- a**b  => np.pow(a,b)\n",
    "- 1/a  => np.reciprocal(a)"
   ]
  },
  {
   "cell_type": "code",
   "execution_count": 1,
   "id": "ed20d2b4",
   "metadata": {},
   "outputs": [],
   "source": [
    "import numpy as np"
   ]
  },
  {
   "cell_type": "code",
   "execution_count": 2,
   "id": "17c14088",
   "metadata": {},
   "outputs": [
    {
     "name": "stdout",
     "output_type": "stream",
     "text": [
      "[4 5 6 7]\n"
     ]
    }
   ],
   "source": [
    "# adding\n",
    "var = np.array([1,2,3,4])\n",
    "\n",
    "#it will add 3 to every item of array\n",
    "varadd = var+3\n",
    "print(varadd)"
   ]
  },
  {
   "cell_type": "code",
   "execution_count": 3,
   "id": "944e654c",
   "metadata": {},
   "outputs": [
    {
     "name": "stdout",
     "output_type": "stream",
     "text": [
      "[ 8 10 12 14]\n"
     ]
    }
   ],
   "source": [
    "# adding\n",
    "var1 = np.array([4,5,6,7])\n",
    "var2 = np.array([4,5,6,7])\n",
    "var3 = var1 + var2\n",
    "print(var3)"
   ]
  },
  {
   "cell_type": "code",
   "execution_count": 4,
   "id": "8e566375",
   "metadata": {},
   "outputs": [
    {
     "name": "stdout",
     "output_type": "stream",
     "text": [
      "[-4 -3 -2 -1]\n"
     ]
    }
   ],
   "source": [
    "# subtraction\n",
    "var6 = np.array([1,2,3,4])\n",
    "var7 = var6 - 5\n",
    "print(var7)"
   ]
  },
  {
   "cell_type": "code",
   "execution_count": 5,
   "id": "cb13f762",
   "metadata": {},
   "outputs": [
    {
     "name": "stdout",
     "output_type": "stream",
     "text": [
      "[ 7 14 21 28]\n"
     ]
    }
   ],
   "source": [
    "# multiplication\n",
    "var8 = np.array([1,2,3,4])\n",
    "var9 = var8 * 7\n",
    "print(var9)"
   ]
  },
  {
   "cell_type": "code",
   "execution_count": 6,
   "id": "2540945c",
   "metadata": {},
   "outputs": [
    {
     "name": "stdout",
     "output_type": "stream",
     "text": [
      "[0.28571429 0.57142857 0.71428571 1.28571429]\n"
     ]
    }
   ],
   "source": [
    "# divide\n",
    "var10 = np.array([2,4,5,9])\n",
    "var11 = var10/7\n",
    "print(var11)"
   ]
  },
  {
   "cell_type": "code",
   "execution_count": 7,
   "id": "0af135e2",
   "metadata": {},
   "outputs": [
    {
     "name": "stdout",
     "output_type": "stream",
     "text": [
      "[1 2 3 5]\n"
     ]
    }
   ],
   "source": [
    "# modulas\n",
    "var12 = np.array([7,8,9,11])\n",
    "var13 = var12%6\n",
    "print(var13)"
   ]
  },
  {
   "cell_type": "markdown",
   "id": "ea26d9f4",
   "metadata": {},
   "source": [
    "### using functions"
   ]
  },
  {
   "cell_type": "code",
   "execution_count": 17,
   "id": "d9076fbf",
   "metadata": {},
   "outputs": [
    {
     "name": "stdout",
     "output_type": "stream",
     "text": [
      "[13 12 14 20]\n"
     ]
    }
   ],
   "source": [
    "# adding\n",
    "var14 = np.array([7,8,9,11])\n",
    "var15 = np.array([6,4,5,9])\n",
    "var16 = np.add(var14,var15)\n",
    "print(var16)"
   ]
  },
  {
   "cell_type": "code",
   "execution_count": 18,
   "id": "d4716bbd",
   "metadata": {},
   "outputs": [
    {
     "name": "stdout",
     "output_type": "stream",
     "text": [
      "[15 16 17 19]\n"
     ]
    }
   ],
   "source": [
    "# another way\n",
    "var17 = np.add(var14,8)\n",
    "print(var17)"
   ]
  },
  {
   "cell_type": "code",
   "execution_count": 19,
   "id": "f0ea23f5",
   "metadata": {},
   "outputs": [
    {
     "name": "stdout",
     "output_type": "stream",
     "text": [
      "[4 5 6 8]\n"
     ]
    }
   ],
   "source": [
    "# subtraction\n",
    "var18 = np.subtract(var14,3)\n",
    "print(var18)"
   ]
  },
  {
   "cell_type": "code",
   "execution_count": 20,
   "id": "42e6d864",
   "metadata": {},
   "outputs": [
    {
     "name": "stdout",
     "output_type": "stream",
     "text": [
      "[49 56 63 77]\n"
     ]
    }
   ],
   "source": [
    "# multiplication\n",
    "var19 = np.multiply(var14,7)\n",
    "print(var19)"
   ]
  },
  {
   "cell_type": "code",
   "execution_count": 21,
   "id": "a9408407",
   "metadata": {},
   "outputs": [
    {
     "name": "stdout",
     "output_type": "stream",
     "text": [
      "[2.33333333 2.66666667 3.         3.66666667]\n"
     ]
    }
   ],
   "source": [
    "# divide\n",
    "var20 = np.divide(var14,3)\n",
    "print(var20)"
   ]
  },
  {
   "cell_type": "code",
   "execution_count": 22,
   "id": "81af0f04",
   "metadata": {},
   "outputs": [
    {
     "name": "stdout",
     "output_type": "stream",
     "text": [
      "[3 0 1 3]\n"
     ]
    }
   ],
   "source": [
    "# mod\n",
    "var21 = np.mod(var14,4)\n",
    "print(var21)"
   ]
  },
  {
   "cell_type": "code",
   "execution_count": 23,
   "id": "8870b062",
   "metadata": {},
   "outputs": [
    {
     "name": "stdout",
     "output_type": "stream",
     "text": [
      "[ 343  512  729 1331]\n"
     ]
    }
   ],
   "source": [
    "# power\n",
    "var22 = np.power(var14,3)\n",
    "print(var22)"
   ]
  },
  {
   "cell_type": "code",
   "execution_count": 24,
   "id": "e87a8b62",
   "metadata": {},
   "outputs": [
    {
     "name": "stdout",
     "output_type": "stream",
     "text": [
      "[0 0 0 0]\n"
     ]
    }
   ],
   "source": [
    "# reciprocal\n",
    "var23 = np.reciprocal(var14)\n",
    "print(var23)"
   ]
  },
  {
   "cell_type": "markdown",
   "id": "a38cc203",
   "metadata": {},
   "source": [
    "### 2D array"
   ]
  },
  {
   "cell_type": "code",
   "execution_count": 29,
   "id": "d8135c87",
   "metadata": {},
   "outputs": [
    {
     "name": "stdout",
     "output_type": "stream",
     "text": [
      "[[1 2 3 4]\n",
      " [5 6 7 8]]\n",
      "+\n",
      "[[ 9 10 11 12]\n",
      " [13 14 15 16]]\n",
      "------------------\n",
      "[[10 12 14 16]\n",
      " [18 20 22 24]]\n"
     ]
    }
   ],
   "source": [
    "var24 = np.array([[1,2,3,4],[5,6,7,8]])\n",
    "var25 = np.array([[9,10,11,12],[13,14,15,16]])\n",
    "print(var24)\n",
    "print(\"+\")\n",
    "print(var25)\n",
    "print(\"------------------\")\n",
    "var26 = var24+var25\n",
    "print(var26)"
   ]
  },
  {
   "cell_type": "code",
   "execution_count": 32,
   "id": "68c11dd8",
   "metadata": {},
   "outputs": [
    {
     "name": "stdout",
     "output_type": "stream",
     "text": [
      "[[1 2 3 4]\n",
      " [5 6 7 8]]\n",
      "-\n",
      "[[ 9 10 11 12]\n",
      " [13 14 15 16]]\n",
      "------------------\n",
      "[[-8 -8 -8 -8]\n",
      " [-8 -8 -8 -8]]\n"
     ]
    }
   ],
   "source": [
    "var27 = np.array([[1,2,3,4],[5,6,7,8]])\n",
    "var28 = np.array([[9,10,11,12],[13,14,15,16]])\n",
    "print(var27)\n",
    "print(\"-\")\n",
    "print(var28)\n",
    "print(\"------------------\")\n",
    "var29 = var27-var28\n",
    "print(var29)"
   ]
  },
  {
   "cell_type": "code",
   "execution_count": 34,
   "id": "46778ab5",
   "metadata": {},
   "outputs": [
    {
     "name": "stdout",
     "output_type": "stream",
     "text": [
      "[[1 2 3 4]\n",
      " [5 6 7 8]]\n",
      "*\n",
      "[[ 9 10 11 12]\n",
      " [13 14 15 16]]\n",
      "------------------\n",
      "[[  9  20  33  48]\n",
      " [ 65  84 105 128]]\n"
     ]
    }
   ],
   "source": [
    "var30 = np.array([[1,2,3,4],[5,6,7,8]])\n",
    "var31 = np.array([[9,10,11,12],[13,14,15,16]])\n",
    "print(var30)\n",
    "print(\"*\")\n",
    "print(var31)\n",
    "print(\"------------------\")\n",
    "var32 = var30*var31\n",
    "print(var32)"
   ]
  },
  {
   "cell_type": "code",
   "execution_count": 35,
   "id": "47f85257",
   "metadata": {},
   "outputs": [
    {
     "name": "stdout",
     "output_type": "stream",
     "text": [
      "[[1 2 3 4]\n",
      " [5 6 7 8]]\n",
      "/\n",
      "[[ 9 10 11 12]\n",
      " [13 14 15 16]]\n",
      "------------------\n",
      "[[  9  20  33  48]\n",
      " [ 65  84 105 128]]\n"
     ]
    }
   ],
   "source": [
    "var33 = np.array([[1,2,3,4],[5,6,7,8]])\n",
    "var34 = np.array([[9,10,11,12],[13,14,15,16]])\n",
    "print(var33)\n",
    "print(\"/\")\n",
    "print(var34)\n",
    "print(\"------------------\")\n",
    "var35 = var33*var34\n",
    "print(var35)"
   ]
  },
  {
   "cell_type": "code",
   "execution_count": 36,
   "id": "c1f7a504",
   "metadata": {},
   "outputs": [
    {
     "name": "stdout",
     "output_type": "stream",
     "text": [
      "[[1 2 3 4]\n",
      " [5 6 7 8]]\n",
      "%\n",
      "[[ 9 10 11 12]\n",
      " [13 14 15 16]]\n",
      "------------------\n",
      "[[  9  20  33  48]\n",
      " [ 65  84 105 128]]\n"
     ]
    }
   ],
   "source": [
    "var36 = np.array([[1,2,3,4],[5,6,7,8]])\n",
    "var37 = np.array([[9,10,11,12],[13,14,15,16]])\n",
    "print(var36)\n",
    "print(\"%\")\n",
    "print(var37)\n",
    "print(\"------------------\")\n",
    "var38 = var36*var37\n",
    "print(var38)"
   ]
  },
  {
   "cell_type": "code",
   "execution_count": 37,
   "id": "88501a5e",
   "metadata": {},
   "outputs": [
    {
     "name": "stdout",
     "output_type": "stream",
     "text": [
      "[[1 2 3 4]\n",
      " [5 6 7 8]]\n",
      "**\n",
      "[[ 9 10 11 12]\n",
      " [13 14 15 16]]\n",
      "------------------\n",
      "[[         1       1024     177147   16777216]\n",
      " [1220703125 1054752768 1622647863          0]]\n"
     ]
    }
   ],
   "source": [
    "var39 = np.array([[1,2,3,4],[5,6,7,8]])\n",
    "var40 = np.array([[9,10,11,12],[13,14,15,16]])\n",
    "print(var39)\n",
    "print(\"**\")\n",
    "print(var40)\n",
    "print(\"------------------\")\n",
    "var41 = var39**var40\n",
    "print(var41)"
   ]
  },
  {
   "cell_type": "markdown",
   "id": "013732e4",
   "metadata": {},
   "source": [
    "### some other Arithmetic Functions\n",
    "- np.min(x)\n",
    "- np.max(x)\n",
    "- np.argmin(x) = gives the index of minimun\n",
    "- np.argmax(x) = gives the index of maximum\n",
    "- np.sqrt(x)\n",
    "- np.sin(x)\n",
    "- np.cos(x)\n",
    "- np.cumsum(x) => gives sums using previous elements"
   ]
  },
  {
   "cell_type": "code",
   "execution_count": 38,
   "id": "84a4c693",
   "metadata": {},
   "outputs": [
    {
     "name": "stdout",
     "output_type": "stream",
     "text": [
      "min: 1 at index 0\n",
      "max: 93 at index 3\n"
     ]
    }
   ],
   "source": [
    "var42 = np.array([1,2,3,4,5,8,44,1,3,7,21,45,93,62,78,23])\n",
    "print(f'min: {np.min(var42)} at index {np.argmin(var14)}')\n",
    "print(f'max: {np.max(var42)} at index {np.argmax(var14)}')"
   ]
  },
  {
   "cell_type": "code",
   "execution_count": 40,
   "id": "724c44ed",
   "metadata": {},
   "outputs": [
    {
     "name": "stdout",
     "output_type": "stream",
     "text": [
      "min: [4 3 1 3] according to column\n",
      "min: [1 2 1] according to row\n"
     ]
    }
   ],
   "source": [
    "# according to axis\n",
    "# for 2D\n",
    "# axis = 0 (for column)\n",
    "# axis = 1 (for row)\n",
    "var43 = np.array([[4,5,1,8],[7,3,2,9],[7,4,1,3]])\n",
    "print(f'min: {np.min(var43, axis=0)} according to column')\n",
    "print(f'min: {np.min(var43, axis=1)} according to row')"
   ]
  },
  {
   "cell_type": "code",
   "execution_count": 41,
   "id": "34bba7aa",
   "metadata": {},
   "outputs": [
    {
     "name": "stdout",
     "output_type": "stream",
     "text": [
      "max: [7 5 2 9] according to column\n",
      "max: [8 9 7] according to row\n"
     ]
    }
   ],
   "source": [
    "print(f'max: {np.max(var43, axis=0)} according to column')\n",
    "print(f'max: {np.max(var43, axis=1)} according to row')"
   ]
  },
  {
   "cell_type": "code",
   "execution_count": 42,
   "id": "0f4f63be",
   "metadata": {},
   "outputs": [
    {
     "name": "stdout",
     "output_type": "stream",
     "text": [
      "square root: [[2.         2.23606798 1.         2.82842712]\n",
      " [2.64575131 1.73205081 1.41421356 3.        ]\n",
      " [2.64575131 2.         1.         1.73205081]]\n"
     ]
    }
   ],
   "source": [
    "# square root\n",
    "print(f'square root: {np.sqrt(var43)}')"
   ]
  },
  {
   "cell_type": "code",
   "execution_count": 45,
   "id": "08b128b2",
   "metadata": {},
   "outputs": [
    {
     "name": "stdout",
     "output_type": "stream",
     "text": [
      "[ 0.84147098  0.90929743  0.14112001 -0.7568025  -0.95892427]\n",
      "[ 0.54030231 -0.41614684 -0.9899925  -0.65364362  0.28366219]\n"
     ]
    }
   ],
   "source": [
    "# sin\n",
    "# cos\n",
    "var44 = np.array([1,2,3,4,5])\n",
    "print(np.sin(var44))\n",
    "print(np.cos(var44))"
   ]
  },
  {
   "cell_type": "code",
   "execution_count": 46,
   "id": "92aa507f",
   "metadata": {},
   "outputs": [
    {
     "name": "stdout",
     "output_type": "stream",
     "text": [
      "cumsum [ 1  3  6 10 15 21 28 36 45 55]\n"
     ]
    }
   ],
   "source": [
    "# cumsum\n",
    "var45 = np.array([1,2,3,4,5,6,7,8,9,10])\n",
    "print(f'cumsum {np.cumsum(var45)}')"
   ]
  },
  {
   "cell_type": "code",
   "execution_count": null,
   "id": "a6bca7f5",
   "metadata": {},
   "outputs": [],
   "source": []
  }
 ],
 "metadata": {
  "kernelspec": {
   "display_name": "Python 3 (ipykernel)",
   "language": "python",
   "name": "python3"
  },
  "language_info": {
   "codemirror_mode": {
    "name": "ipython",
    "version": 3
   },
   "file_extension": ".py",
   "mimetype": "text/x-python",
   "name": "python",
   "nbconvert_exporter": "python",
   "pygments_lexer": "ipython3",
   "version": "3.9.7"
  }
 },
 "nbformat": 4,
 "nbformat_minor": 5
}
