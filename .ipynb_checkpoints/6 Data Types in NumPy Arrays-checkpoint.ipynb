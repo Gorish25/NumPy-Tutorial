{
 "cells": [
  {
   "cell_type": "markdown",
   "id": "466b07ce",
   "metadata": {},
   "source": [
    "### Data Types In NumPy Arrays"
   ]
  },
  {
   "cell_type": "markdown",
   "id": "75e9a954",
   "metadata": {},
   "source": [
    "- 1.) bool_ => Boolean (True or False) stored as a byte\n",
    "- 2.) int_ => Default integer type (same as C long; normally either int64 or int32)\n",
    "- 3.) Intc => Identical to C int (normally int32 or int64)\n",
    "- 4.) Intp => Integer used for indexing (same as C ssize_t; normally either int32 or int64)\n",
    "- 5.) int8 => Byte (-128 to 127)\n",
    "- 6.) int16 => Integer (-32768 to 32767)\n",
    "- 7.) int32 => Integer (-2147483648 to 2147483647)\n",
    "- 8.) int64 => Integer (-9223372036854775808 to 9223372036854775807)\n",
    "- 9.) uint8 => Unsigned integer (0 to 255)\n",
    "- 10.) uint16 => Unsigned integer (0 to 65535)\n",
    "- 11.) uint32 => Unsigned integer (0 to 4294967295)\n",
    "- 12.) uint64 => Unsigned integer (0 to 18446744073709551616)\n",
    "- 13.) float_ => Shorthand for float64\n",
    "- 14.) float16 => Half precision float: sign bit, 5 bits exponent, 10 bits mantissa\n",
    "- 15.) float32 => Single precision float: 8 bits exponents 23 bits mantissa\n",
    "- 16.) float64 => Double precision float: sign bit, 11 bits exponent 53 bits mantissa\n",
    "- 17.) complex_ => Shorthand for complex128\n",
    "- 18.) complex64 => Complex number, represented by two 32-bit floats (real and imaginary components)\n",
    "- 19.) complex128 => Complex number, represented by two 64-bit floats (real and imaginary components)"
   ]
  },
  {
   "cell_type": "markdown",
   "id": "5c60e088",
   "metadata": {},
   "source": [
    "### Data Type"
   ]
  },
  {
   "cell_type": "code",
   "execution_count": 1,
   "id": "5261e6f6",
   "metadata": {},
   "outputs": [],
   "source": [
    "import numpy as np"
   ]
  },
  {
   "cell_type": "code",
   "execution_count": 3,
   "id": "5b7f1eb3",
   "metadata": {},
   "outputs": [
    {
     "name": "stdout",
     "output_type": "stream",
     "text": [
      "[1 2 3 4 5 6]\n",
      "Data Type: int32\n"
     ]
    }
   ],
   "source": [
    "# knowing data type using (dtype)\n",
    "var = np.array([1,2,3,4,5,6])\n",
    "print(var)\n",
    "print(f\"Data Type: {var.dtype}\")"
   ]
  },
  {
   "cell_type": "code",
   "execution_count": 4,
   "id": "557b2e4a",
   "metadata": {},
   "outputs": [
    {
     "name": "stdout",
     "output_type": "stream",
     "text": [
      "[1.  1.2 1.3 2.4]\n",
      "Data Type: float64\n"
     ]
    }
   ],
   "source": [
    "var2 = np.array([1.0,1.2,1.3,2.4])\n",
    "print(var2)\n",
    "print(f'Data Type: {var2.dtype}')"
   ]
  },
  {
   "cell_type": "code",
   "execution_count": 6,
   "id": "766a1fe6",
   "metadata": {},
   "outputs": [
    {
     "name": "stdout",
     "output_type": "stream",
     "text": [
      "['A' 'S' 'D' 'F']\n",
      "Data Type: <U1\n"
     ]
    }
   ],
   "source": [
    "var3 = np.array(['A','S','D','F'])\n",
    "print(var3)\n",
    "print(f'Data Type: {var3.dtype}')"
   ]
  },
  {
   "cell_type": "code",
   "execution_count": 8,
   "id": "af303a3a",
   "metadata": {},
   "outputs": [
    {
     "name": "stdout",
     "output_type": "stream",
     "text": [
      "['A' 'S' 'D' 'F' '1' '2' '3' '4']\n",
      "Data Type: <U11\n"
     ]
    }
   ],
   "source": [
    "var4 = np.array(['A','S','D','F',1,2,3,4])\n",
    "print(var4)\n",
    "print(f'Data Type: {var4.dtype}')"
   ]
  },
  {
   "cell_type": "markdown",
   "id": "b7bfe15a",
   "metadata": {},
   "source": [
    "### List of characters that are used to represent dtype in NumPy:\n",
    "- i => integer\n",
    "- b => boolean\n",
    "- u => unsigned\n",
    "- f => float\n",
    "- c => complex float\n",
    "- m => timedelta\n",
    "- M => datetime\n",
    "- O => object\n",
    "- S => string\n",
    "- U => Unicode string\n",
    "- V => the fixed chunk of memory for other types (void)"
   ]
  },
  {
   "cell_type": "code",
   "execution_count": 9,
   "id": "3517191d",
   "metadata": {},
   "outputs": [
    {
     "name": "stdout",
     "output_type": "stream",
     "text": [
      "Data Type: int32\n",
      "Data Type: int8\n"
     ]
    }
   ],
   "source": [
    "# changing array data type to another data type\n",
    "x = np.array([1,2,3,4])\n",
    "print(f'Data Type: {x.dtype}')\n",
    "\n",
    "# converting to other data type while creation\n",
    "x2 = np.array([1,2,3,4], dtype= np.int8)\n",
    "print(f'Data Type: {x2.dtype}')"
   ]
  },
  {
   "cell_type": "code",
   "execution_count": 10,
   "id": "07016553",
   "metadata": {},
   "outputs": [
    {
     "name": "stdout",
     "output_type": "stream",
     "text": [
      "Data Type: float32\n"
     ]
    }
   ],
   "source": [
    "x3 = np.array([1,2,3,4], dtype='f')\n",
    "print(f'Data Type: {x3.dtype}')"
   ]
  },
  {
   "cell_type": "code",
   "execution_count": 13,
   "id": "29ee2695",
   "metadata": {},
   "outputs": [
    {
     "name": "stdout",
     "output_type": "stream",
     "text": [
      "[1 2 3 4]\n",
      "[1. 2. 3. 4.]\n",
      "[1 2 3 4]\n",
      "Data Type: int32\n",
      "Data Type: float32\n",
      "Data Type: int32\n"
     ]
    }
   ],
   "source": [
    "# converting data type using function\n",
    "x4 = np.array([1,2,3,4])\n",
    "new = np.float32(x4)\n",
    "\n",
    "# again conversion\n",
    "new_one = np.int_(new)\n",
    "\n",
    "print(x4)\n",
    "print(new)\n",
    "print(new_one)\n",
    "\n",
    "print(f'Data Type: {x4.dtype}')\n",
    "print(f\"Data Type: {new.dtype}\")\n",
    "print(f\"Data Type: {new_one.dtype}\")"
   ]
  },
  {
   "cell_type": "code",
   "execution_count": 14,
   "id": "556d7a4a",
   "metadata": {},
   "outputs": [
    {
     "name": "stdout",
     "output_type": "stream",
     "text": [
      "[1 2 3 4]\n",
      "[1. 2. 3. 4.]\n"
     ]
    }
   ],
   "source": [
    "# convertin using astype\n",
    "x5 = np.array([1,2,3,4])\n",
    "new_1 = x5.astype(float)\n",
    "print(x5)\n",
    "print(new_1)"
   ]
  },
  {
   "cell_type": "code",
   "execution_count": null,
   "id": "4da3f962",
   "metadata": {},
   "outputs": [],
   "source": []
  }
 ],
 "metadata": {
  "kernelspec": {
   "display_name": "Python 3 (ipykernel)",
   "language": "python",
   "name": "python3"
  },
  "language_info": {
   "codemirror_mode": {
    "name": "ipython",
    "version": 3
   },
   "file_extension": ".py",
   "mimetype": "text/x-python",
   "name": "python",
   "nbconvert_exporter": "python",
   "pygments_lexer": "ipython3",
   "version": "3.9.7"
  }
 },
 "nbformat": 4,
 "nbformat_minor": 5
}
