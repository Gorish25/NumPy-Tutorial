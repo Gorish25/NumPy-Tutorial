{
 "cells": [
  {
   "cell_type": "markdown",
   "id": "9e3397fa",
   "metadata": {},
   "source": [
    "# NumPy Arrays Functions\n",
    "- Search, Sort, Search Sorted, Filter"
   ]
  },
  {
   "cell_type": "markdown",
   "id": "556eaea0",
   "metadata": {},
   "source": [
    "## Search\n",
    "- <b>Search Array:</b> Search an array for a certain value, and return the indexes that get a match."
   ]
  },
  {
   "cell_type": "code",
   "execution_count": 2,
   "id": "638c7f77",
   "metadata": {},
   "outputs": [],
   "source": [
    "import numpy as np"
   ]
  },
  {
   "cell_type": "code",
   "execution_count": 3,
   "id": "653a254f",
   "metadata": {},
   "outputs": [
    {
     "name": "stdout",
     "output_type": "stream",
     "text": [
      "(array([ 2, 14, 15], dtype=int64),)\n"
     ]
    }
   ],
   "source": [
    "var1 = np.array([1,2,3,4,2,5,2,5,6,8,7,2,1,9,3,3,1,4,8,7])\n",
    "var2 = np.where(var1==3)\n",
    "print(var2)"
   ]
  },
  {
   "cell_type": "code",
   "execution_count": 4,
   "id": "0ecf370d",
   "metadata": {},
   "outputs": [
    {
     "name": "stdout",
     "output_type": "stream",
     "text": [
      "(array([], dtype=int64),)\n"
     ]
    }
   ],
   "source": [
    "# one more example with condition\n",
    "var3 = np.where((var1/2)==0)\n",
    "print(var3)"
   ]
  },
  {
   "cell_type": "markdown",
   "id": "e51ea384",
   "metadata": {},
   "source": [
    "## Search Sorted Array:\n",
    "- Which performs a binary search in the array, and returns the index where the specified value would be inserted to maintain the search order."
   ]
  },
  {
   "cell_type": "code",
   "execution_count": 5,
   "id": "cc90f4e6",
   "metadata": {},
   "outputs": [
    {
     "name": "stdout",
     "output_type": "stream",
     "text": [
      "4\n"
     ]
    }
   ],
   "source": [
    "var4 = np.array([1,2,3,4,5,6,7,8,9])\n",
    "\n",
    "# 1st arg is the array 2nd arg is the value which would be inserted\n",
    "# from left to right\n",
    "var5 = np.searchsorted(var4,5)\n",
    "print(var5)"
   ]
  },
  {
   "cell_type": "code",
   "execution_count": 6,
   "id": "fc8f647e",
   "metadata": {},
   "outputs": [
    {
     "name": "stdout",
     "output_type": "stream",
     "text": [
      "[5 6 7]\n"
     ]
    }
   ],
   "source": [
    "# from right to left\n",
    "var6 = np.array([11,12,13,14,15,16,17,18,19,20])\n",
    "\n",
    "# where should 15,16,17 be placed\n",
    "var7 = np.searchsorted(var6, [15,16,17],side='right')\n",
    "print(var7)"
   ]
  },
  {
   "cell_type": "markdown",
   "id": "210f958e",
   "metadata": {},
   "source": [
    "## Sort Array:\n",
    "- Ordered sequence is any sequence that has an order corresponding to elements, like numeric or alphabetical ascending or descending."
   ]
  },
  {
   "cell_type": "code",
   "execution_count": 7,
   "id": "5009b35c",
   "metadata": {},
   "outputs": [
    {
     "name": "stdout",
     "output_type": "stream",
     "text": [
      "[ 1  2  3  4  5  6  7 12 22 52]\n"
     ]
    }
   ],
   "source": [
    "var8 = np.array([4,2,3,1,12,5,22,52,6,7])\n",
    "var9 = np.sort(var8)\n",
    "print(var9)"
   ]
  },
  {
   "cell_type": "code",
   "execution_count": 8,
   "id": "1774446d",
   "metadata": {},
   "outputs": [
    {
     "name": "stdout",
     "output_type": "stream",
     "text": [
      "['a' 'd' 'f' 's']\n"
     ]
    }
   ],
   "source": [
    "var10 = np.array(['a','s','d','f'])\n",
    "print(np.sort(var10))"
   ]
  },
  {
   "cell_type": "code",
   "execution_count": 9,
   "id": "5d0eb46c",
   "metadata": {},
   "outputs": [
    {
     "name": "stdout",
     "output_type": "stream",
     "text": [
      "[[ 2  3  4]\n",
      " [ 1  5 12]\n",
      " [ 6 22 52]]\n"
     ]
    }
   ],
   "source": [
    "# sorting 2D Array\n",
    "var11 = np.array([[4,2,3],[1,12,5],[22,52,6]])\n",
    "print(np.sort(var11))"
   ]
  },
  {
   "cell_type": "markdown",
   "id": "464fe057",
   "metadata": {},
   "source": [
    "## Filter Array:\n",
    "- Getting some elements out of an existing array and creating a new array out of them."
   ]
  },
  {
   "cell_type": "code",
   "execution_count": 11,
   "id": "4ad48d6f",
   "metadata": {},
   "outputs": [
    {
     "name": "stdout",
     "output_type": "stream",
     "text": [
      "['a' 'f']\n",
      "<class 'numpy.ndarray'>\n"
     ]
    }
   ],
   "source": [
    "# filter array\n",
    "var12 = np.array(['a','s','d','f'])\n",
    "var13 = np.array([True,False,False,True])\n",
    "var14 = var12[var13]\n",
    "print(var14)\n",
    "print(type(var14))"
   ]
  },
  {
   "cell_type": "code",
   "execution_count": null,
   "id": "09425306",
   "metadata": {},
   "outputs": [],
   "source": []
  }
 ],
 "metadata": {
  "kernelspec": {
   "display_name": "Python 3 (ipykernel)",
   "language": "python",
   "name": "python3"
  },
  "language_info": {
   "codemirror_mode": {
    "name": "ipython",
    "version": 3
   },
   "file_extension": ".py",
   "mimetype": "text/x-python",
   "name": "python",
   "nbconvert_exporter": "python",
   "pygments_lexer": "ipython3",
   "version": "3.9.7"
  }
 },
 "nbformat": 4,
 "nbformat_minor": 5
}
